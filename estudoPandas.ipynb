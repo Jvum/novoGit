{
 "cells": [
  {
   "cell_type": "markdown",
   "metadata": {},
   "source": [
    "**ARQUIVO USADO PARA TESTARMOS E BRINCARMOS COM A BIBLIOTECA PANDAS\n",
    "\n",
    "FUNÇÕES APRENDIDAS : SERIES (Para fácil entendimento, é uma tabela de banco de dados com apenas uma coluna e quantas linhas precisar)\n",
    "                     DATAFRAME (Para fácil entendimento, nada mais nada menos do que uma tabela completa de banco de dados, podendo ser ótimo para leitura de informações provindas de datasets)"
   ]
  },
  {
   "cell_type": "code",
   "execution_count": 2,
   "metadata": {},
   "outputs": [],
   "source": [
    "import pandas as pd\n",
    "import numpy as np"
   ]
  },
  {
   "cell_type": "code",
   "execution_count": 4,
   "metadata": {},
   "outputs": [],
   "source": [
    "serie_teste = pd.Series(np.random.random(10)) "
   ]
  },
  {
   "cell_type": "code",
   "execution_count": 5,
   "metadata": {},
   "outputs": [
    {
     "data": {
      "text/plain": [
       "0    0.686298\n",
       "1    0.976820\n",
       "2    0.422032\n",
       "3    0.836661\n",
       "4    0.686899\n",
       "5    0.399555\n",
       "6    0.603694\n",
       "7    0.940425\n",
       "8    0.528754\n",
       "9    0.942098\n",
       "dtype: float64"
      ]
     },
     "execution_count": 5,
     "metadata": {},
     "output_type": "execute_result"
    }
   ],
   "source": [
    "serie_teste"
   ]
  },
  {
   "cell_type": "code",
   "execution_count": 6,
   "metadata": {},
   "outputs": [],
   "source": [
    "serie_teste = pd.Series(np.random.random(3), index = ['random_1','random_2','random_3'])"
   ]
  },
  {
   "cell_type": "code",
   "execution_count": 7,
   "metadata": {},
   "outputs": [
    {
     "data": {
      "text/plain": [
       "random_1    0.212846\n",
       "random_2    0.115352\n",
       "random_3    0.699499\n",
       "dtype: float64"
      ]
     },
     "execution_count": 7,
     "metadata": {},
     "output_type": "execute_result"
    }
   ],
   "source": [
    "serie_teste"
   ]
  },
  {
   "cell_type": "code",
   "execution_count": 12,
   "metadata": {},
   "outputs": [
    {
     "data": {
      "text/plain": [
       "Margem                 25\n",
       "Receita_Bruta      102200\n",
       "Receita_Liquida    120000\n",
       "dtype: int64"
      ]
     },
     "execution_count": 12,
     "metadata": {},
     "output_type": "execute_result"
    }
   ],
   "source": [
    "dre_values = {'Receita_Bruta': 100000, 'Margem': 20, 'Receita_Liquida': 140000}\n",
    "dre_ambev = pd.Series(dre_values)\n",
    "dre_ambev\n",
    "\n",
    "dre_values = {'Receita_Bruta': 102200, 'Margem': 25, 'Receita_Liquida': 120000}\n",
    "dre_alb = pd.Series(dre_values)\n",
    "dre_alb"
   ]
  },
  {
   "cell_type": "code",
   "execution_count": 16,
   "metadata": {},
   "outputs": [
    {
     "data": {
      "text/html": [
       "<div>\n",
       "<style scoped>\n",
       "    .dataframe tbody tr th:only-of-type {\n",
       "        vertical-align: middle;\n",
       "    }\n",
       "\n",
       "    .dataframe tbody tr th {\n",
       "        vertical-align: top;\n",
       "    }\n",
       "\n",
       "    .dataframe thead th {\n",
       "        text-align: right;\n",
       "    }\n",
       "</style>\n",
       "<table border=\"1\" class=\"dataframe\">\n",
       "  <thead>\n",
       "    <tr style=\"text-align: right;\">\n",
       "      <th></th>\n",
       "      <th>Air Liquide</th>\n",
       "      <th>Ambev</th>\n",
       "    </tr>\n",
       "  </thead>\n",
       "  <tbody>\n",
       "    <tr>\n",
       "      <th>Margem</th>\n",
       "      <td>25</td>\n",
       "      <td>20</td>\n",
       "    </tr>\n",
       "    <tr>\n",
       "      <th>Receita_Bruta</th>\n",
       "      <td>102200</td>\n",
       "      <td>100000</td>\n",
       "    </tr>\n",
       "    <tr>\n",
       "      <th>Receita_Liquida</th>\n",
       "      <td>120000</td>\n",
       "      <td>140000</td>\n",
       "    </tr>\n",
       "  </tbody>\n",
       "</table>\n",
       "</div>"
      ],
      "text/plain": [
       "                 Air Liquide   Ambev\n",
       "Margem                    25      20\n",
       "Receita_Bruta         102200  100000\n",
       "Receita_Liquida       120000  140000"
      ]
     },
     "execution_count": 16,
     "metadata": {},
     "output_type": "execute_result"
    }
   ],
   "source": [
    "pd.DataFrame({'Ambev': dre_ambev, 'Air Liquide': dre_alb})"
   ]
  },
  {
   "cell_type": "markdown",
   "metadata": {},
   "source": [
    "Podemos utilizar nas Series as funções que aprendemos em Numpy (Slice, Fancy Indexing, Masking), segue alguns exemplos abaixo:"
   ]
  },
  {
   "cell_type": "code",
   "execution_count": 20,
   "metadata": {},
   "outputs": [
    {
     "data": {
      "text/plain": [
       "0    0.550054\n",
       "1    0.204893\n",
       "2    0.339215\n",
       "3    0.871581\n",
       "4    0.022398\n",
       "dtype: float64"
      ]
     },
     "execution_count": 20,
     "metadata": {},
     "output_type": "execute_result"
    }
   ],
   "source": [
    "serie_teste = pd.Series(np.random.random(10)) \n",
    "serie_teste[0:5]"
   ]
  },
  {
   "cell_type": "code",
   "execution_count": 21,
   "metadata": {
    "scrolled": true
   },
   "outputs": [
    {
     "data": {
      "text/plain": [
       "0    0.550054\n",
       "1    0.204893\n",
       "2    0.339215\n",
       "3    0.871581\n",
       "5    0.430147\n",
       "6    0.953771\n",
       "7    0.601511\n",
       "8    0.775511\n",
       "9    0.318353\n",
       "dtype: float64"
      ]
     },
     "execution_count": 21,
     "metadata": {},
     "output_type": "execute_result"
    }
   ],
   "source": [
    "serie_teste[(serie_teste > 0.10)]"
   ]
  },
  {
   "cell_type": "code",
   "execution_count": 22,
   "metadata": {},
   "outputs": [
    {
     "data": {
      "text/plain": [
       "1    0.204893\n",
       "5    0.430147\n",
       "dtype: float64"
      ]
     },
     "execution_count": 22,
     "metadata": {},
     "output_type": "execute_result"
    }
   ],
   "source": [
    "serie_teste[[1,5]]"
   ]
  },
  {
   "cell_type": "code",
   "execution_count": null,
   "metadata": {},
   "outputs": [],
   "source": []
  }
 ],
 "metadata": {
  "kernelspec": {
   "display_name": "Python 3",
   "language": "python",
   "name": "python3"
  },
  "language_info": {
   "codemirror_mode": {
    "name": "ipython",
    "version": 3
   },
   "file_extension": ".py",
   "mimetype": "text/x-python",
   "name": "python",
   "nbconvert_exporter": "python",
   "pygments_lexer": "ipython3",
   "version": "3.6.5"
  }
 },
 "nbformat": 4,
 "nbformat_minor": 2
}
